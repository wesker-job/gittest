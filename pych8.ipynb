{
 "metadata": {
  "name": "",
  "signature": "sha256:ef88e10806b046fadc2fcf31a965c62a2ca1bddd663299d1a994822f41663083"
 },
 "nbformat": 3,
 "nbformat_minor": 0,
 "worksheets": [
  {
   "cells": [
    {
     "cell_type": "code",
     "collapsed": false,
     "input": [
      "#!/usr/bin/env python\n",
      "def factorial(x):\n",
      "    if x <= 1:\n",
      "        return 1\n",
      "    return x * factorial(x-1)\n",
      "\n",
      "print(factorial(5))"
     ],
     "language": "python",
     "metadata": {},
     "outputs": [
      {
       "output_type": "stream",
       "stream": "stdout",
       "text": [
        "120\n"
       ]
      }
     ],
     "prompt_number": 1
    },
    {
     "cell_type": "code",
     "collapsed": false,
     "input": [
      "#pych7\n",
      "print('Binary file')\n",
      "print('XML: element tree, DOM, SAX')\n",
      "print('regular expressions')\n",
      "#pych6\n",
      "print('python object')"
     ],
     "language": "python",
     "metadata": {},
     "outputs": [
      {
       "output_type": "stream",
       "stream": "stdout",
       "text": [
        "Binary file\n",
        "XML: element tree, DOM, SAX\n",
        "regular expressions\n",
        "python object\n"
       ]
      }
     ],
     "prompt_number": 4
    },
    {
     "cell_type": "code",
     "collapsed": false,
     "input": [],
     "language": "python",
     "metadata": {},
     "outputs": []
    }
   ],
   "metadata": {}
  }
 ]
}