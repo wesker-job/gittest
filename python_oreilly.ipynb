{
 "metadata": {
  "name": "",
<<<<<<< HEAD
  "signature": "sha256:5286184ee9778c6becf8a82ca49671085aa15c99db6a8bfb1a17ab8a5954906c"
=======
  "signature": "sha256:93d532dc9afc239a861e588ca097a5ed5090980859e365d85083c139cda5e400"
>>>>>>> a83829dbe7b3d9bf027cbeafe8d938b45698f70e
 },
 "nbformat": 3,
 "nbformat_minor": 0,
 "worksheets": [
  {
   "cells": [
    {
     "cell_type": "code",
     "collapsed": false,
     "input": [
      "#!/usr/bin/python3\n",
      "#list\n",
      "movies = [\"Hello\",\"Hey\",\"Hi\"]\n",
      "print(movies[1])\n",
      "print(movies)\n",
      "print(len(movies))\n",
      "movies.append(\"World\")\n",
      "print(movies)\n",
      "movies.pop()\n",
      "print(movies)\n",
      "movies.extend([\"aaa\",\"bbb\"])\n",
      "print(movies)\n",
      "movies.remove(\"Hi\")\n",
      "movies.insert(2,\"Sun\")\n",
      "print(movies)\n",
      "movies.append(999)\n",
      "print(movies)\n",
      "\n",
      "streach = \"\"\n",
      "for each_m in movies:\n",
      "    streach += str(each_m) + \",\"\n",
      "print(streach)\n",
      "count = 0\n",
      "streach = \"\"\n",
      "while count < len(movies):\n",
      "    streach += str(movies[count]) + \",\"\n",
      "    count += 1\n",
      "print(streach)\n",
      "\n",
      "isinstance(movies, list)\n",
      "isinstance(movies, str)"
     ],
     "language": "python",
     "metadata": {},
     "outputs": [
      {
       "output_type": "stream",
       "stream": "stdout",
       "text": [
        "Hey\n",
        "['Hello', 'Hey', 'Hi']\n",
        "3\n",
        "['Hello', 'Hey', 'Hi', 'World']\n",
        "['Hello', 'Hey', 'Hi']\n",
        "['Hello', 'Hey', 'Hi', 'aaa', 'bbb']\n",
        "['Hello', 'Hey', 'Sun', 'aaa', 'bbb']\n",
        "['Hello', 'Hey', 'Sun', 'aaa', 'bbb', 999]\n",
        "Hello,Hey,Sun,aaa,bbb,999,\n",
        "Hello,Hey,Sun,aaa,bbb,999,\n"
       ]
      },
      {
       "metadata": {},
       "output_type": "pyout",
       "prompt_number": 25,
       "text": [
        "False"
       ]
      }
     ],
     "prompt_number": 25
    },
    {
     "cell_type": "code",
     "collapsed": false,
     "input": [
      "\"\"\" ch 2 \"\"\"\n",
      "showarr = [\"1\",\"2\",\"3\"]\n",
      "def print_show(str1,str2=0):\n",
      "    print(str1+str(showarr[str2]))\n",
      "print_show(\"aa\",1)\n",
      "print_show(\"bb\")"
     ],
     "language": "python",
     "metadata": {},
     "outputs": [
      {
       "output_type": "stream",
       "stream": "stdout",
       "text": [
        "aa2\n",
        "bb1\n"
       ]
      }
     ],
     "prompt_number": 27
    },
    {
     "cell_type": "code",
     "collapsed": false,
     "input": [
      "\"\"\" ch 3 \"\"\"\n",
      "import os\n",
      "os.getcwd()\n",
      "if os.path.exists('test.txt'):\n",
      "  data = open('test.txt') # with data = open('xxx'), python will be to close file, not need finally to process\n",
      "  data.seek(0)\n",
      "  for each_line in data:\n",
      "      try:\n",
      "          (first1, last2) = each_line.split(\":\",1)\n",
      "          print(first1+\" said:\"+last2)\n",
      "      except:\n",
      "          pass\n",
      "  data.close()\n",
      "else:\n",
      "    print(\"this file is missing\")"
     ],
     "language": "python",
     "metadata": {},
     "outputs": [
      {
       "output_type": "stream",
       "stream": "stdout",
       "text": [
        "a said:111111\n",
        "\n",
        "B said:222222\n",
        "\n",
        "c said:aaaaaa\n",
        "\n",
        "d said:999999\n",
        "\n",
        "e said:777777\n",
        "\n",
        "f said:cccccc\n",
        "\n"
       ]
      }
     ],
     "prompt_number": 39
    },
    {
     "cell_type": "code",
     "collapsed": false,
     "input": [
      "\"\"\" ch4 \"\"\"\n",
      "try:\n",
      "    man_file = open('test2.txt','w')\n",
      "    man = \" file write test\"\n",
      "    print(man, file=man_file)\n",
      "except:\n",
      "    print(\"file error\")\n",
      "finally:\n",
      "    man_file.close()\n",
      "if os.path.exists('test2.txt'):\n",
      "    print('test2 is exist')\n",
      "else:\n",
      "    print(\"test2 is not exist\")"
     ],
     "language": "python",
     "metadata": {},
     "outputs": [
      {
       "output_type": "stream",
       "stream": "stdout",
       "text": [
        "test2 is exist\n"
       ]
      }
     ],
     "prompt_number": 44
    },
    {
     "cell_type": "code",
     "collapsed": false,
     "input": [
      "with open('test3.txt') as jas:\n",
      "    data = jas.readline()\n",
      "james = data.strip().split(',')\n",
      "print(sorted(james))\n",
      "jamesset=set(james)\n",
      "print(jamesset)"
     ],
     "language": "python",
     "metadata": {},
     "outputs": [
      {
       "output_type": "stream",
       "stream": "stdout",
       "text": [
        "['2-25', '2.18', '2.18', '2.28', '3-01', '3-01', '3-11', '3.14', '3.15']\n",
        "{'3.15', '2-25', '3.14', '3-11', '2.18', '2.28', '3-01'}\n"
       ]
      }
     ],
     "prompt_number": 52
    },
    {
     "cell_type": "code",
     "collapsed": false,
     "input": [
      "#ch6\n",
      "def get_coach_data(filename):\n",
      "    try:\n",
      "        with open(filename) as f:\n",
      "            data = f.readline()\n",
      "        return(data.strip().split(','))\n",
      "    except IOError as ioerr:\n",
      "        print('File error:'+str(ioerr))\n",
      "        return(None)\n",
      "\n",
      "search = get_coach_data('test4.txt')\n",
      "sdata = {} # sdata=dict()\n",
      "sdata['name'] = search.pop(0)\n",
      "sdata['birth'] = search.pop(0)\n",
      "sdata['Times'] = str(search)\n",
      "print(sdata['name']+\" birthday is \"+sdata['birth']+\" , Times is :\"+sdata['Times'])\n",
      "#(search_name, search_dob) = search.pop(0) , search.pop(0)\n",
      "#print(search_name+\" : \"+str(sorted(search)))"
     ],
     "language": "python",
     "metadata": {},
     "outputs": [
      {
       "output_type": "stream",
       "stream": "stdout",
       "text": [
        "amy birthday is 2013-1-1 , Times is :['2.1', '2.9', '3.1', '2.2']\n"
       ]
      }
     ],
     "prompt_number": 59
    },
    {
     "cell_type": "code",
     "collapsed": false,
<<<<<<< HEAD
     "input": [
      "class Athlete:\n",
      "    def __init__(self, a_name, a_dob=None, a_times=[]):\n",
      "        self.name = a_name\n",
      "        self.dob = a_dob\n",
      "        self.times = a_times\n",
      "\n",
      "sarah = Athlete('Sarah','2006-1-1',['1:35','2-01'])\n",
      "james = Athlete('James')\n",
      "type(sarah)\n",
      "print(sarah.name + \", \" + sarah.dob)\n",
      "print(james.name + \", \" + james.dob)"
     ],
     "language": "python",
     "metadata": {},
     "outputs": [
      {
       "output_type": "stream",
       "stream": "stdout",
       "text": [
        "Sarah, 2006-1-1\n"
       ]
      },
      {
       "ename": "TypeError",
       "evalue": "Can't convert 'NoneType' object to str implicitly",
       "output_type": "pyerr",
       "traceback": [
        "\u001b[1;31m---------------------------------------------------------------------------\u001b[0m\n\u001b[1;31mTypeError\u001b[0m                                 Traceback (most recent call last)",
        "\u001b[1;32m<ipython-input-4-948f409be386>\u001b[0m in \u001b[0;36m<module>\u001b[1;34m()\u001b[0m\n\u001b[0;32m      9\u001b[0m \u001b[0mtype\u001b[0m\u001b[1;33m(\u001b[0m\u001b[0msarah\u001b[0m\u001b[1;33m)\u001b[0m\u001b[1;33m\u001b[0m\u001b[0m\n\u001b[0;32m     10\u001b[0m \u001b[0mprint\u001b[0m\u001b[1;33m(\u001b[0m\u001b[0msarah\u001b[0m\u001b[1;33m.\u001b[0m\u001b[0mname\u001b[0m \u001b[1;33m+\u001b[0m \u001b[1;34m\", \"\u001b[0m \u001b[1;33m+\u001b[0m \u001b[0msarah\u001b[0m\u001b[1;33m.\u001b[0m\u001b[0mdob\u001b[0m\u001b[1;33m)\u001b[0m\u001b[1;33m\u001b[0m\u001b[0m\n\u001b[1;32m---> 11\u001b[1;33m \u001b[0mprint\u001b[0m\u001b[1;33m(\u001b[0m\u001b[0mjames\u001b[0m\u001b[1;33m.\u001b[0m\u001b[0mname\u001b[0m \u001b[1;33m+\u001b[0m \u001b[1;34m\", \"\u001b[0m \u001b[1;33m+\u001b[0m \u001b[0mjames\u001b[0m\u001b[1;33m.\u001b[0m\u001b[0mdob\u001b[0m\u001b[1;33m)\u001b[0m\u001b[1;33m\u001b[0m\u001b[0m\n\u001b[0m",
        "\u001b[1;31mTypeError\u001b[0m: Can't convert 'NoneType' object to str implicitly"
       ]
      }
     ],
     "prompt_number": 4
    },
    {
     "cell_type": "code",
     "collapsed": false,
     "input": [
      "class NamedList(list):\n",
      "    def __init__(self, a_name):\n",
      "        list.__init__([])\n",
      "        self.name = a_name\n",
      "\n",
      "johnny = NamedList(\"John\")\n",
      "type(johnny)\n",
      "dir(johnny)\n",
      "johnny.append(\"Boss\")\n",
      "print(johnny)\n",
      "print(johnny.name)"
     ],
     "language": "python",
     "metadata": {},
     "outputs": [
      {
       "output_type": "stream",
       "stream": "stdout",
       "text": [
        "['Boss']\n",
        "John\n"
       ]
      }
     ],
     "prompt_number": 8
    },
    {
     "cell_type": "code",
     "collapsed": false,
     "input": [
      "# python for android\n",
      "# ch8\n",
      "import json\n",
      "names = ['aa','bb','cc','dd']\n",
      "to_trans = json.dumps(names)\n",
      "print(to_trans)\n",
      "from_trans = json.loads(to_trans)\n",
      "print(from_trans)\n",
      "# 'application/json'\n",
      "# @property\n"
     ],
     "language": "python",
     "metadata": {},
     "outputs": [
      {
       "output_type": "stream",
       "stream": "stdout",
       "text": [
        "[\"aa\", \"bb\", \"cc\", \"dd\"]\n",
        "['aa', 'bb', 'cc', 'dd']\n"
       ]
      }
     ],
     "prompt_number": 3
    },
    {
     "cell_type": "code",
     "collapsed": false,
     "input": [
      "import sqlite3\n",
      "connection = sqlite3.connect('test.sqlite')\n",
      "cursor = connection.cursor()\n",
      "cursor.execute(\"\"\"select date('NOW')\"\"\")\n",
      "connection.commit()\n",
      "connection.close()"
     ],
     "language": "python",
     "metadata": {},
     "outputs": [],
     "prompt_number": 7
    },
    {
     "cell_type": "code",
     "collapsed": false,
     "input": [
      "# google cloud\n",
      "# google appengine GAE(google app engine)"
     ],
=======
     "input": [],
>>>>>>> a83829dbe7b3d9bf027cbeafe8d938b45698f70e
     "language": "python",
     "metadata": {},
     "outputs": []
    }
   ],
   "metadata": {}
  }
 ]
}