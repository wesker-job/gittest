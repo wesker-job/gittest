{
 "metadata": {
  "name": "",
  "signature": "sha256:305db534ea364d677fde1524d028668a7c700967f3131a2fe29bb24b66edf558"
 },
 "nbformat": 3,
 "nbformat_minor": 0,
 "worksheets": [
  {
   "cells": [
    {
     "cell_type": "markdown",
     "metadata": {},
     "source": [
      "#!/usr/bin/env python\n",
      "# \u7cbe\u901aPython3\n",
      "\n",
      "str.format()\n",
      "\u5e8f\u5217:\u5143\u7d44\u3001\u5177\u540d\u5143\u7d44\u3001\u6e05\u55ae\n",
      "\u96c6\u5408:set\u578b\u614b\u3001\u51cd\u7d50\u96c6\u5408\n",
      "\u6620\u5c04\u578b\u614b:\u5b57\u5178\u3001\u9810\u8a2d\u5b57\u5178\u3001\u6709\u5e8f\u5b57\u5178\n",
      "\u7fa4\u96c6\u7684\u8fed\u4ee3\u8207\u8907\u5236\n",
      "\u4f8b\u5916\u3001\u81ea\u5b9a\u7fa9\u51fd\u5f0f\u3001lambda\n",
      "\u6a21\u7d44\u3001\u660e\u4ef6\u3001\u81ea\u5b9a\u7fa9\u6a21\u7d44\n",
      "\u7269\u4ef6\n",
      "\u6a94\u6848\u3001XML:\u5143\u7d20\u6a39\u3001DOM\u3001SAX\n",
      "\u9664\u932f\u3001\u55ae\u5143\u6e2c\u8a66\u3001\u6982\u8981\u5206\u6790\n",
      "\u884c\u7a0b(multiprocessing)\u3001\u57f7\u884c\u7dd2(threading)\n",
      "\u7db2\u8def\n",
      "\u8cc7\u6599\u5eab\n",
      "\u6b63\u898f\u8868\u793a\u5f0f\n",
      "\u5256\u6790:BNF\n",
      "GUI"
     ]
    }
   ],
   "metadata": {}
  }
 ]
}