{
 "metadata": {
  "name": "",
  "signature": "sha256:6521fd1cd6cddbf8c87c5ca8cbcac5b448c244db158a58744b677aa04e970df7"
 },
 "nbformat": 3,
 "nbformat_minor": 0,
 "worksheets": [
  {
   "cells": [
    {
     "cell_type": "code",
     "collapsed": false,
     "input": [
      "#!/usr/bin/env python3\n"
     ],
     "language": "python",
     "metadata": {},
     "outputs": []
    }
   ],
   "metadata": {}
  }
 ]
}