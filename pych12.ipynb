{
 "metadata": {
  "name": "",
  "signature": "sha256:ce0da3b4c001781c38468c26d4f322ab2e3009188c88b79d12807150e99777b8"
 },
 "nbformat": 3,
 "nbformat_minor": 0,
 "worksheets": [
  {
   "cells": [
    {
     "cell_type": "code",
     "collapsed": false,
     "input": [
      "#!/usr/bin/env python3\n",
      "# py ch12 database\n",
      "# DBM\n",
      "import shelve\n",
      "import pickle\n",
      "\n",
      "filename = \"\"\n",
      "db = None\n",
      "try:\n",
      "    db = shelve.open(filename, protocol=pickle.HIGHEST_PROTOCOL)\n",
      "finally:\n",
      "    if db is not None:\n",
      "        db.close()"
     ],
     "language": "python",
     "metadata": {},
     "outputs": [],
     "prompt_number": 13
    },
    {
     "cell_type": "code",
     "collapsed": false,
     "input": [
      "# sql database\n",
      "\n",
      "def connect(filename):\n",
      "    create = not os.path.exists(filename)\n",
      "    db = sqlite3.connect(filename)\n",
      "    if create:\n",
      "        cursor = db.cursor()\n",
      "        cursor.execute(\"create table directors ( id integer primary key autoincrement unique not null, name text unique not null)\")\n",
      "        db.commit()\n",
      "    return db"
     ],
     "language": "python",
     "metadata": {},
     "outputs": [],
     "prompt_number": 14
    },
    {
     "cell_type": "code",
     "collapsed": false,
     "input": [],
     "language": "python",
     "metadata": {},
     "outputs": []
    }
   ],
   "metadata": {}
  }
 ]
}