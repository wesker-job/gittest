{
 "metadata": {
  "name": "",
  "signature": "sha256:465fbad9f5cdfcceae584e9d4c938f082324291a77c141cf16fa6b4d6b6f1afd"
 },
 "nbformat": 3,
 "nbformat_minor": 0,
 "worksheets": [
  {
   "cells": [
    {
     "cell_type": "code",
     "collapsed": false,
     "input": [
      "#!/usr/bin/env python3\n",
      "# py ch 13 regular expression - regex\n"
     ],
     "language": "python",
     "metadata": {},
     "outputs": []
    }
   ],
   "metadata": {}
  }
 ]
}