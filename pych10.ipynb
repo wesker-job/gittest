{
 "metadata": {
  "name": "",
  "signature": "sha256:de4e79633ceadae6a4118837a8acb31100e6401a164dfa40b92a7377a249170c"
 },
 "nbformat": 3,
 "nbformat_minor": 0,
 "worksheets": [
  {
   "cells": [
    {
     "cell_type": "code",
     "collapsed": false,
     "input": [
      "#!/urs/bin/env pythno3\n",
      "# py ch10\n",
      "# multi processing module"
     ],
     "language": "python",
     "metadata": {},
     "outputs": [],
     "prompt_number": 0
    },
    {
     "cell_type": "code",
     "collapsed": false,
     "input": [
      "# threading module\n",
      "# threading.Thread()\n"
     ],
     "language": "python",
     "metadata": {},
     "outputs": []
    }
   ],
   "metadata": {}
  }
 ]
}