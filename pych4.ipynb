{
 "metadata": {
  "name": "",
  "signature": "sha256:14e5a863b6b0440978d0f56810de36b4a8ad419ec4eedc934473a95a50d1d277"
 },
 "nbformat": 3,
 "nbformat_minor": 0,
 "worksheets": [
  {
   "cells": [
    {
     "cell_type": "code",
     "collapsed": false,
     "input": [
      "#!/usr/bin/env python\n",
      "intin = int(input(\"input int value:\"))\n",
      "if intin > 10:\n",
      "    print(\"value is > 10\")\n",
      "elif intin > 5:\n",
      "    print(\"value is > 5\")\n",
      "else:\n",
      "    print(intin)"
     ],
     "language": "python",
     "metadata": {},
     "outputs": [
      {
       "name": "stdout",
       "output_type": "stream",
       "stream": "stdout",
       "text": [
        "input int value:15\n"
       ]
      },
      {
       "output_type": "stream",
       "stream": "stdout",
       "text": [
        "value is > 10\n"
       ]
      }
     ],
     "prompt_number": 3
    },
    {
     "cell_type": "code",
     "collapsed": false,
     "input": [
      "booset = True\n",
      "intset = 20 + (10 if booset else 0)\n",
      "offset = 20 if booset else 10\n",
      "print(str(intset)+\", \"+str(offset))"
     ],
     "language": "python",
     "metadata": {},
     "outputs": [
      {
       "output_type": "stream",
       "stream": "stdout",
       "text": [
        "30, 20\n"
       ]
      }
     ],
     "prompt_number": 7
    },
    {
     "cell_type": "code",
     "collapsed": false,
     "input": [
      "count = int(input(\"input 0 or 1:\"))\n",
      "print(\"{0} file{1}\".format((count if count != 0 else \"no\"),(\"s\" if count !=1 else \"\")))"
     ],
     "language": "python",
     "metadata": {},
     "outputs": [
      {
       "name": "stdout",
       "output_type": "stream",
       "stream": "stdout",
       "text": [
        "input 0 or 1:1\n"
       ]
      },
      {
       "output_type": "stream",
       "stream": "stdout",
       "text": [
        "1 file\n"
       ]
      }
     ],
     "prompt_number": 10
    },
    {
     "cell_type": "code",
     "collapsed": false,
     "input": [
      "intset = 5\n",
      "strset = \"start:\"\n",
      "while intset > 1:\n",
      "    strset += str(intset) + \",\"\n",
      "    intset = intset - 1\n",
      "else:\n",
      "    print(intset)\n",
      "print(strset)"
     ],
     "language": "python",
     "metadata": {},
     "outputs": [
      {
       "output_type": "stream",
       "stream": "stdout",
       "text": [
        "1\n",
        "start:5,4,3,2,\n"
       ]
      }
     ],
     "prompt_number": 10
    },
    {
     "cell_type": "code",
     "collapsed": false,
     "input": [],
     "language": "python",
     "metadata": {},
     "outputs": []
    }
   ],
   "metadata": {}
  }
 ]
}