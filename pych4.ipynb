{
 "metadata": {
  "name": "",
  "signature": "sha256:acb950b9511f737e9b25d259e8b5fbfd26e97f6cfd07f853ae6af1f272c7db9b"
 },
 "nbformat": 3,
 "nbformat_minor": 0,
 "worksheets": [
  {
   "cells": [
    {
     "cell_type": "code",
     "collapsed": false,
     "input": [
      "#!/usr/bin/env python\n",
      "intin = int(input(\"input int value:\"))\n",
      "if intin > 10:\n",
      "    print(\"value is > 10\")\n",
      "elif intin > 5:\n",
      "    print(\"value is > 5\")\n",
      "else:\n",
      "    print(intin)"
     ],
     "language": "python",
     "metadata": {},
     "outputs": [
      {
       "name": "stdout",
       "output_type": "stream",
       "stream": "stdout",
       "text": [
        "input int value:15\n"
       ]
      },
      {
       "output_type": "stream",
       "stream": "stdout",
       "text": [
        "value is > 10\n"
       ]
      }
     ],
     "prompt_number": 3
    },
    {
     "cell_type": "code",
     "collapsed": false,
     "input": [
      "booset = True\n",
      "intset = 20 + (10 if booset else 0)\n",
      "offset = 20 if booset else 10\n",
      "print(str(intset)+\", \"+str(offset))"
     ],
     "language": "python",
     "metadata": {},
     "outputs": [
      {
       "output_type": "stream",
       "stream": "stdout",
       "text": [
        "30, 20\n"
       ]
      }
     ],
     "prompt_number": 7
    },
    {
     "cell_type": "code",
     "collapsed": false,
     "input": [
      "count = int(input(\"input 0 or 1:\"))\n",
      "print(\"{0} file{1}\".format((count if count != 0 else \"no\"),(\"s\" if count !=1 else \"\")))"
     ],
     "language": "python",
     "metadata": {},
     "outputs": [
      {
       "name": "stdout",
       "output_type": "stream",
       "stream": "stdout",
       "text": [
        "input 0 or 1:1\n"
       ]
      },
      {
       "output_type": "stream",
       "stream": "stdout",
       "text": [
        "1 file\n"
       ]
      }
     ],
     "prompt_number": 10
    },
    {
     "cell_type": "code",
     "collapsed": false,
     "input": [
      "intset = 5\n",
      "strset = \"start:\"\n",
      "while intset > 1:\n",
      "    strset += str(intset) + \",\"\n",
      "    intset = intset - 1\n",
      "else:\n",
      "    print(intset)\n",
      "print(strset)"
     ],
     "language": "python",
     "metadata": {},
     "outputs": [
      {
       "output_type": "stream",
       "stream": "stdout",
       "text": [
        "1\n",
        "start:5,4,3,2,\n"
       ]
      }
     ],
     "prompt_number": 10
    },
    {
     "cell_type": "code",
     "collapsed": false,
     "input": [
      "strx = \"\"\n",
      "for x in range(10):\n",
      "    strx += str(x)\n",
      "print(strx)\n",
      "stra = \"\"\n",
      "strlist = [\"aa\",\"bb\",\"cc\"]\n",
      "for x in strlist:\n",
      "    stra += x\n",
      "print(strlist)\n",
      "\n",
      "strb=\"\"\n",
      "for x,y in enumerate(strlist):\n",
      "    print(str(x)+\"-\"+str(y))\n",
      "else:\n",
      "    print(\"for loop done\")"
     ],
     "language": "python",
     "metadata": {},
     "outputs": [
      {
       "output_type": "stream",
       "stream": "stdout",
       "text": [
        "0123456789\n",
        "['aa', 'bb', 'cc']\n",
        "0-aa\n",
        "1-bb\n",
        "2-cc\n",
        "for loop done\n"
       ]
      }
     ],
     "prompt_number": 4
    },
    {
     "cell_type": "code",
     "collapsed": false,
     "input": [
      "try:\n",
      "    sn = int(input(\"input int value:\"))\n",
      "    print(sn)\n",
      "except Exception as err:\n",
      "    print(err)\n",
      "else:\n",
      "    print(\"else suite\")\n",
      "finally:\n",
      "    print(\"try-excpet-finally\")"
     ],
     "language": "python",
     "metadata": {},
     "outputs": [
      {
       "name": "stdout",
       "output_type": "stream",
       "stream": "stdout",
       "text": [
        "input int value:oo\n"
       ]
      },
      {
       "output_type": "stream",
       "stream": "stdout",
       "text": [
        "invalid literal for int() with base 10: 'oo'\n",
        "try-excpet-finally\n"
       ]
      }
     ],
     "prompt_number": 9
    },
    {
     "cell_type": "code",
     "collapsed": false,
     "input": [
      "raise NameError\n",
      "#\u5229\u7528raise\u5f15\u767c\u4f8b\u5916"
     ],
     "language": "python",
     "metadata": {},
     "outputs": [
      {
       "ename": "NameError",
       "evalue": "",
       "output_type": "pyerr",
       "traceback": [
        "\u001b[1;31m---------------------------------------------------------------------------\u001b[0m\n\u001b[1;31mNameError\u001b[0m                                 Traceback (most recent call last)",
        "\u001b[1;32m<ipython-input-10-a586bde47246>\u001b[0m in \u001b[0;36m<module>\u001b[1;34m()\u001b[0m\n\u001b[1;32m----> 1\u001b[1;33m \u001b[1;32mraise\u001b[0m \u001b[0mNameError\u001b[0m\u001b[1;33m\u001b[0m\u001b[0m\n\u001b[0m",
        "\u001b[1;31mNameError\u001b[0m: "
       ]
      }
     ],
     "prompt_number": 10
    },
    {
     "cell_type": "code",
     "collapsed": false,
     "input": [],
     "language": "python",
     "metadata": {},
     "outputs": []
    }
   ],
   "metadata": {}
  }
 ]
}