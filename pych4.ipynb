{
 "metadata": {
  "name": "",
  "signature": "sha256:68353961e7ecbfb2862eb582181527e117a3c046b3d1ca4951de3f1d6eab3b0e"
 },
 "nbformat": 3,
 "nbformat_minor": 0,
 "worksheets": []
}