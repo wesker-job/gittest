{
 "metadata": {
  "name": "",
  "signature": "sha256:6676d2e33f72712161942ea214364f2080efbf08a09d588a9d739ed963c6ca10"
 },
 "nbformat": 3,
 "nbformat_minor": 0,
 "worksheets": [
  {
   "cells": [
    {
     "cell_type": "code",
     "collapsed": false,
     "input": [
      "print(\"hello taiwan\")"
     ],
     "language": "python",
     "metadata": {},
     "outputs": [
      {
       "output_type": "stream",
       "stream": "stdout",
       "text": [
        "hello taiwan\n"
       ]
      }
     ],
     "prompt_number": 1
    },
    {
     "cell_type": "code",
     "collapsed": false,
     "input": [
      "def doubleV(dValue):\n",
      "  return dValue*2\n",
      "\n",
      "print(\"Hello\", \"World!\")\n",
      "\n",
      "a = 5\n",
      "if a > 10:\n",
      "  print (\"a > 10\")\n",
      "elif a > 0:\n",
      "  print (\"a > 0\")\n",
      "else:\n",
      "  print (\"a < 0\")\n",
      "\n",
      "b = 0\n",
      "while b<2:\n",
      "  b = b + 1\n",
      "  print(\"b\"+str(b))\n",
      "\n",
      "strSh = \"\"\n",
      "for sh in [\"a\",\"b\",\"c\"]:\n",
      "  strSh += sh + \",\"\n",
      "print(strSh)\n",
      "\n",
      "try:\n",
      "  line = int(input(\"input int value:\"))\n",
      "  DoubV = doubleV(line)\n",
      "  print (\"def value(\"+str(line)+\"):\"+str(DoubV))\n",
      "except ValueError as err:\n",
      "  print(err)\n",
      "\n",
      "import random\n",
      "x = random.randint(1,6)\n",
      "y = random.choice([\"apple\",\"banana\",\"cherry\"])\n",
      "print(str(x)+\", \"+y)"
     ],
     "language": "python",
     "metadata": {},
     "outputs": [
      {
       "output_type": "stream",
       "stream": "stdout",
       "text": [
        "Hello World!\n",
        "a > 0\n",
        "b1\n",
        "b2\n",
        "a,b,c,\n"
       ]
      },
      {
       "name": "stdout",
       "output_type": "stream",
       "stream": "stdout",
       "text": [
        "input int value:25\n"
       ]
      },
      {
       "output_type": "stream",
       "stream": "stdout",
       "text": [
        "def value(25):50\n",
        "2, apple\n"
       ]
      }
     ],
     "prompt_number": 2
    },
    {
     "cell_type": "code",
     "collapsed": false,
     "input": [
      "#!/usr/bin/env python3\n",
      "strEX = \"hello world!\"\n",
      "str1 = strEX[0:5]\n",
      "str2 = strEX[0:10:2]\n",
      "print(strEX+\" - \"+str1+\" - \"+str2)\n",
      "\n",
      "strArray = [\"aa\",\"bb\",\"cc\"]\n",
      "strLink = \"**\".join(strArray)\n",
      "print(strLink)\n",
      "strLink = \"--\".join(reversed(strArray))\n",
      "print(strLink)\n",
      "print(strLink.split(\"--\"))\n",
      "\n",
      "print(\"show '{strEX}' and show '{strLink}'\".format(**locals()))\n",
      "print(\"{0:*^20}\".format(strEX))"
     ],
     "language": "python",
     "metadata": {},
     "outputs": [
      {
       "output_type": "stream",
       "stream": "stdout",
       "text": [
        "hello world! - hello - hlowr\n",
        "aa**bb**cc\n",
        "cc--bb--aa\n",
        "['cc', 'bb', 'aa']\n",
        "show 'hello world!' and show 'cc--bb--aa'\n",
        "****hello world!****\n"
       ]
      }
     ],
     "prompt_number": 3
    },
    {
     "cell_type": "code",
     "collapsed": false,
     "input": [
      "x = 1\n",
      "x += 1\n",
      "print(x)"
     ],
     "language": "python",
     "metadata": {},
     "outputs": [
      {
       "ename": "SyntaxError",
       "evalue": "invalid syntax (<ipython-input-11-e044d858a061>, line 3)",
       "output_type": "pyerr",
       "traceback": [
        "\u001b[1;36m  File \u001b[1;32m\"<ipython-input-11-e044d858a061>\"\u001b[1;36m, line \u001b[1;32m3\u001b[0m\n\u001b[1;33m    x++\u001b[0m\n\u001b[1;37m       ^\u001b[0m\n\u001b[1;31mSyntaxError\u001b[0m\u001b[1;31m:\u001b[0m invalid syntax\n"
       ]
      }
     ],
     "prompt_number": 11
    },
    {
     "cell_type": "code",
     "collapsed": false,
     "input": [],
     "language": "python",
     "metadata": {},
     "outputs": []
    }
   ],
   "metadata": {}
  }
 ]
}