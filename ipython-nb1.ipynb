{
 "metadata": {
  "name": "",
  "signature": "sha256:d51131eec5ba559d2b86c897880c59d7b9a25322a5c5c57728d2aa85f6f0d07a"
 },
 "nbformat": 3,
 "nbformat_minor": 0,
 "worksheets": [
  {
   "cells": [
    {
     "cell_type": "code",
     "collapsed": false,
     "input": [
      "print(\"hello taiwan\")"
     ],
     "language": "python",
     "metadata": {},
     "outputs": [
      {
       "output_type": "stream",
       "stream": "stdout",
       "text": [
        "hello taiwan\n"
       ]
      }
     ],
     "prompt_number": 1
    },
    {
     "cell_type": "code",
     "collapsed": false,
     "input": [
      "def doubleV(dValue):\n",
      "  return dValue*2\n",
      "\n",
      "print(\"Hello\", \"World!\")\n",
      "\n",
      "a = 5\n",
      "if a > 10:\n",
      "  print (\"a > 10\")\n",
      "elif a > 0:\n",
      "  print (\"a > 0\")\n",
      "else:\n",
      "  print (\"a < 0\")\n",
      "\n",
      "b = 0\n",
      "while b<2:\n",
      "  b = b + 1\n",
      "  print(\"b\"+str(b))\n",
      "\n",
      "strSh = \"\"\n",
      "for sh in [\"a\",\"b\",\"c\"]:\n",
      "  strSh += sh + \",\"\n",
      "print(strSh)\n",
      "\n",
      "try:\n",
      "  line = int(input(\"input int value:\"))\n",
      "  DoubV = doubleV(line)\n",
      "  print (\"def value(\"+str(line)+\"):\"+str(DoubV))\n",
      "except ValueError as err:\n",
      "  print(err)\n",
      "\n",
      "import random\n",
      "x = random.randint(1,6)\n",
      "y = random.choice([\"apple\",\"banana\",\"cherry\"])\n",
      "print(str(x)+\", \"+y)"
     ],
     "language": "python",
     "metadata": {},
     "outputs": [
      {
       "output_type": "stream",
       "stream": "stdout",
       "text": [
        "Hello World!\n",
        "a > 0\n",
        "b1\n",
        "b2\n",
        "a,b,c,\n"
       ]
      },
      {
       "name": "stdout",
       "output_type": "stream",
       "stream": "stdout",
       "text": [
        "input int value:25\n"
       ]
      },
      {
       "output_type": "stream",
       "stream": "stdout",
       "text": [
        "def value(25):50\n",
        "2, apple\n"
       ]
      }
     ],
     "prompt_number": 2
    },
    {
     "cell_type": "code",
     "collapsed": false,
     "input": [
      "#!/usr/bin/env python3\n",
      "strEX = \"hello world!\"\n",
      "str1 = strEX[0:5]\n",
      "str2 = strEX[0:10:2]\n",
      "print(strEX+\" - \"+str1+\" - \"+str2)\n",
      "\n",
      "strArray = [\"aa\",\"bb\",\"cc\"]\n",
      "strLink = \"**\".join(strArray)\n",
      "print(strLink)\n",
      "strLink = \"--\".join(reversed(strArray))\n",
      "print(strLink)\n",
      "print(strLink.split(\"--\"))\n",
      "\n",
      "print(\"show '{strEX}' and show '{strLink}'\".format(**locals()))\n",
      "print(\"{0:*^20}\".format(strEX))"
     ],
     "language": "python",
     "metadata": {},
     "outputs": [
      {
       "output_type": "stream",
       "stream": "stdout",
       "text": [
        "hello world! - hello - hlowr\n",
        "aa**bb**cc\n",
        "cc--bb--aa\n",
        "['cc', 'bb', 'aa']\n",
        "show 'hello world!' and show 'cc--bb--aa'\n",
        "****hello world!****\n"
       ]
      }
     ],
     "prompt_number": 3
    },
    {
     "cell_type": "code",
     "collapsed": false,
     "input": [],
     "language": "python",
     "metadata": {},
     "outputs": []
    }
   ],
   "metadata": {}
  }
 ]
}